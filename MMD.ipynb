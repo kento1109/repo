{
 "cells": [
  {
   "cell_type": "code",
   "execution_count": 3,
   "metadata": {},
   "outputs": [],
   "source": [
    "import numpy as np\n",
    "import mmd"
   ]
  },
  {
   "cell_type": "code",
   "execution_count": 4,
   "metadata": {},
   "outputs": [
    {
     "data": {
      "text/plain": [
       "array([[0.011109  , 0.082085  , 0.36787944],\n",
       "       [0.36787944, 0.13533528, 0.00150344],\n",
       "       [0.60653066, 0.60653066, 0.00673795]])"
      ]
     },
     "execution_count": 4,
     "metadata": {},
     "output_type": "execute_result"
    }
   ],
   "source": [
    "from sklearn.metrics.pairwise import euclidean_distances, rbf_kernel\n",
    "\n",
    "X = [[1, 3], [0, 1], [1, 1]]\n",
    "Y = [[1, 0], [2, 1], [2, 4]]\n",
    "rbf_kernel(X, Y, gamma=1/2)"
   ]
  },
  {
   "cell_type": "code",
   "execution_count": 5,
   "metadata": {},
   "outputs": [
    {
     "data": {
      "text/plain": [
       "array([[0.08923287, 1.28426725, 1.37518279, ..., 1.22516797, 0.20591656,\n",
       "        0.04735947],\n",
       "       [0.01458334, 1.26411527, 1.36747116, ..., 1.19851423, 0.27898578,\n",
       "        0.02736283],\n",
       "       [0.83238872, 1.39557186, 1.41056237, ..., 1.38274309, 0.59651041,\n",
       "        0.8015627 ],\n",
       "       ...,\n",
       "       [1.25817839, 0.00595013, 0.53221423, ..., 0.19285026, 1.32810739,\n",
       "        1.27012043],\n",
       "       [0.55307619, 1.36910168, 1.40361181, ..., 1.34279241, 0.27712024,\n",
       "        0.51572651],\n",
       "       [0.35705235, 1.12418954, 1.30663968, ..., 1.02122821, 0.62503922,\n",
       "        0.39673925]])"
      ]
     },
     "execution_count": 5,
     "metadata": {},
     "output_type": "execute_result"
    }
   ],
   "source": [
    "n = 1000\n",
    "x = np.random.normal(loc=0.0, scale=1.0, size=n)[:,None]\n",
    "y = np.random.normal(loc=1.0, scale=1.0, size=n)[:,None]\n",
    "mmd_ = mmd.rbf_mmd(x, y)\n",
    "mmd_"
   ]
  },
  {
   "cell_type": "code",
   "execution_count": 6,
   "metadata": {},
   "outputs": [
    {
     "ename": "AttributeError",
     "evalue": "module 'mmd' has no attribute 'mix_rbf_mmd2'",
     "output_type": "error",
     "traceback": [
      "\u001b[0;31m---------------------------------------------------------------------------\u001b[0m",
      "\u001b[0;31mAttributeError\u001b[0m                            Traceback (most recent call last)",
      "\u001b[0;32m<ipython-input-6-b2319327611e>\u001b[0m in \u001b[0;36m<module>\u001b[0;34m()\u001b[0m\n\u001b[0;32m----> 1\u001b[0;31m \u001b[0mmmd\u001b[0m\u001b[0;34m.\u001b[0m\u001b[0mmix_rbf_mmd2\u001b[0m\u001b[0;34m(\u001b[0m\u001b[0mx\u001b[0m\u001b[0;34m,\u001b[0m\u001b[0my\u001b[0m\u001b[0;34m)\u001b[0m\u001b[0;34m\u001b[0m\u001b[0m\n\u001b[0m",
      "\u001b[0;31mAttributeError\u001b[0m: module 'mmd' has no attribute 'mix_rbf_mmd2'"
     ]
    }
   ],
   "source": [
    "mmd.mix_rbf_mmd2(x,y)"
   ]
  },
  {
   "cell_type": "code",
   "execution_count": 16,
   "metadata": {},
   "outputs": [
    {
     "data": {
      "text/plain": [
       "(488, 1)"
      ]
     },
     "execution_count": 16,
     "metadata": {},
     "output_type": "execute_result"
    }
   ],
   "source": [
    "samps[0].shape"
   ]
  },
  {
   "cell_type": "code",
   "execution_count": null,
   "metadata": {},
   "outputs": [],
   "source": []
  }
 ],
 "metadata": {
  "kernelspec": {
   "display_name": "Python 3",
   "language": "python",
   "name": "python3"
  },
  "language_info": {
   "codemirror_mode": {
    "name": "ipython",
    "version": 3
   },
   "file_extension": ".py",
   "mimetype": "text/x-python",
   "name": "python",
   "nbconvert_exporter": "python",
   "pygments_lexer": "ipython3",
   "version": "3.6.4"
  }
 },
 "nbformat": 4,
 "nbformat_minor": 2
}
