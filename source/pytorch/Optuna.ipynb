{
  "nbformat": 4,
  "nbformat_minor": 0,
  "metadata": {
    "colab": {
      "name": "Optuna.ipynb",
      "version": "0.3.2",
      "provenance": [],
      "collapsed_sections": []
    },
    "kernelspec": {
      "name": "python3",
      "display_name": "Python 3"
    },
    "accelerator": "GPU"
  },
  "cells": [
    {
      "metadata": {
        "id": "4DAocs9rLkoK",
        "colab_type": "code",
        "colab": {}
      },
      "cell_type": "code",
      "source": [
        "!pip install optuna"
      ],
      "execution_count": 0,
      "outputs": []
    },
    {
      "metadata": {
        "id": "EmYRs20WLnI5",
        "colab_type": "code",
        "colab": {}
      },
      "cell_type": "code",
      "source": [
        "import optuna\n",
        "import torch"
      ],
      "execution_count": 0,
      "outputs": []
    },
    {
      "metadata": {
        "id": "Hzk-fkP1b6UM",
        "colab_type": "code",
        "colab": {}
      },
      "cell_type": "code",
      "source": [
        "import numpy as np\n",
        "import torch\n",
        "import torch.nn as nn\n",
        "import torch.optim as optim\n",
        "import torch.nn.functional as F\n",
        "from sklearn.datasets import load_digits\n",
        "from sklearn.model_selection import train_test_split"
      ],
      "execution_count": 0,
      "outputs": []
    },
    {
      "metadata": {
        "id": "ngHVFDAfLvcs",
        "colab_type": "code",
        "colab": {}
      },
      "cell_type": "code",
      "source": [
        "class LogisticNet(torch.nn.Module):\n",
        "    def __init__(self, D_in, D_out, trial):\n",
        "        super(LogisticNet, self).__init__()\n",
        "        H = trial.suggest_categorical('hidden_dim', [16, 32, 64, 128])\n",
        "        dropout_rate = trial.suggest_uniform('dropout_rate', 0.0, 1.0)\n",
        "        self.fc1 = nn.Linear(D_in, H)\n",
        "        self.dropout = nn.Dropout(dropout_rate)\n",
        "        self.fc2 = nn.Linear(H, D_out)\n",
        "\n",
        "    def forward(self, x):\n",
        "        h = F.relu(self.fc1(x))\n",
        "        h = self.dropout(h)\n",
        "        out = self.fc2(h)\n",
        "        return out"
      ],
      "execution_count": 0,
      "outputs": []
    },
    {
      "metadata": {
        "id": "jVLBy7aBaZp9",
        "colab_type": "code",
        "colab": {}
      },
      "cell_type": "code",
      "source": [
        "def train(model, loss_func, optimizer, trX, trY):\n",
        "    x = torch.Tensor(trX)\n",
        "    y = torch.LongTensor(trY)\n",
        "    optimizer.zero_grad()\n",
        "    y_pred = model(x)\n",
        "    loss = loss_func(y_pred, y)\n",
        "    loss.backward()\n",
        "    optimizer.step()\n",
        "    return loss.item()\n",
        "  \n",
        "def valid(model, loss_func, valX, valY):\n",
        "    x = torch.Tensor(valX)\n",
        "    y = torch.LongTensor(valY)\n",
        "\n",
        "    outputs = model(x)\n",
        "    val_loss = loss_func(outputs, y)\n",
        "    _, predY = torch.max(outputs.data, 1)\n",
        "    correct = (predY == y.data).sum()\n",
        "    val_acc = float(correct) / y.size(0)\n",
        "    return val_loss.item(), val_acc"
      ],
      "execution_count": 0,
      "outputs": []
    },
    {
      "metadata": {
        "id": "2KNpGmHwdQWD",
        "colab_type": "code",
        "colab": {}
      },
      "cell_type": "code",
      "source": [
        "def create_optimizer(trial):\n",
        "    optimizer = trial.suggest_categorical('optimizer', ['sgd', 'adam'])\n",
        "    if optimizer[0] == 'sgd':\n",
        "      return optim.SGD(model.parameters(), lr=1e-2)\n",
        "    else:\n",
        "      return optim.Adam(model.parameters())\n",
        "\n",
        "def create_optimizer(trial):\n",
        "    learning_rate = trial.suggest_loguniform('learning_rate', 1e-5, 1e-2)\n",
        "    return optim.Adam(model.parameters(), lr=learning_rate)\n",
        "  \n",
        "def create_optimizer(trial):\n",
        "    optimizer = trial.suggest_categorical('optimizer', ['sgd', 'adam'])\n",
        "    learning_rate = trial.suggest_loguniform('learning_rate', 1e-5, 1e-2)\n",
        "    if optimizer[0] == 'sgd':\n",
        "      return optim.SGD(model.parameters(), lr=learning_rate)\n",
        "    else:\n",
        "      return optim.Adam(model.parameters(), lr=learning_rate)"
      ],
      "execution_count": 0,
      "outputs": []
    },
    {
      "metadata": {
        "id": "jwsv3nQGfWbG",
        "colab_type": "code",
        "colab": {}
      },
      "cell_type": "code",
      "source": [
        "def load_data():\n",
        "  digits = load_digits()\n",
        "  data = digits['data']\n",
        "  target = digits['target']\n",
        "  trX, teX, trY, teY = train_test_split(data, target, test_size=0.2, random_state=0)\n",
        "  trX = torch.from_numpy(trX).float()\n",
        "  teX = torch.from_numpy(teX).float()\n",
        "  trY = torch.from_numpy(trY.astype(np.int64))\n",
        "  teY = torch.from_numpy(teY.astype(np.int64))\n",
        "  return (trX, trY, teX, teY)"
      ],
      "execution_count": 0,
      "outputs": []
    },
    {
      "metadata": {
        "id": "JFc-HrcAfRLp",
        "colab_type": "code",
        "colab": {}
      },
      "cell_type": "code",
      "source": [
        "N_EPOCHS = 100\n",
        "def objective(trial):\n",
        "  trX, trY, teX, teY = load_data()\n",
        "  model = LogisticNet(64, 10, trial)\n",
        "  optimizer = create_optimizer(trial)\n",
        "  loss_func = nn.CrossEntropyLoss()\n",
        "  for epoch in range(N_EPOCHS):\n",
        "      loss = train(model, loss_func, optimizer, trX, trY)\n",
        "      val_loss, val_acc = valid(model, loss_func, teX, teY)\n",
        "  return 1 - val_acc"
      ],
      "execution_count": 0,
      "outputs": []
    },
    {
      "metadata": {
        "id": "FdwSeH7kcEnb",
        "colab_type": "code",
        "colab": {}
      },
      "cell_type": "code",
      "source": [
        "optuna.logging.disable_default_handler()\n",
        "study = optuna.create_study()\n",
        "study.optimize(objective, n_trials=10)"
      ],
      "execution_count": 0,
      "outputs": []
    },
    {
      "metadata": {
        "id": "RsLhFDSlgPg5",
        "colab_type": "code",
        "colab": {
          "base_uri": "https://localhost:8080/",
          "height": 52
        },
        "outputId": "33ca7885-2817-4d5b-fe9e-ebd83d5ab5ae"
      },
      "cell_type": "code",
      "source": [
        "print(\"best params: \", study.best_params)\n",
        "print(\"best test accuracy: \", study.best_value)"
      ],
      "execution_count": 120,
      "outputs": [
        {
          "output_type": "stream",
          "text": [
            "best params:  {'hidden_dim': 128, 'dropout_rate': 0.07268943158505814, 'optimizer': 'sgd', 'learning_rate': 0.0008228873939678834}\n",
            "best test accuracy:  0.875\n"
          ],
          "name": "stdout"
        }
      ]
    },
    {
      "metadata": {
        "id": "nQgfpR9MgUW5",
        "colab_type": "code",
        "colab": {}
      },
      "cell_type": "code",
      "source": [
        ""
      ],
      "execution_count": 0,
      "outputs": []
    }
  ]
}