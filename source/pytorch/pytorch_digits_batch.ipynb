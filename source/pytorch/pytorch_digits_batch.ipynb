{
 "cells": [
  {
   "cell_type": "code",
   "execution_count": 34,
   "metadata": {
    "collapsed": true
   },
   "outputs": [],
   "source": [
    "import numpy as np\n",
    "import torch\n",
    "import torch.nn as nn\n",
    "import torch.optim as optim\n",
    "import torch.utils.data\n",
    "from torch.autograd import Variable\n",
    "from sklearn.datasets import load_digits\n",
    "from sklearn.model_selection import train_test_split"
   ]
  },
  {
   "cell_type": "code",
   "execution_count": 30,
   "metadata": {
    "collapsed": true
   },
   "outputs": [],
   "source": [
    "class LogisticNet(torch.nn.Module):\n",
    "    def __init__(self, D_in, D_out):\n",
    "        super(LogisticNet, self).__init__()\n",
    "        self.linear = nn.Linear(D_in, D_out)\n",
    "\n",
    "    def forward(self, x):\n",
    "        lin = self.linear(x)\n",
    "        return lin"
   ]
  },
  {
   "cell_type": "code",
   "execution_count": 31,
   "metadata": {
    "collapsed": true
   },
   "outputs": [],
   "source": [
    "def train(model, loss_func, optimizer, trX, trY):\n",
    "    x = Variable(trX, requires_grad=False)\n",
    "    y = Variable(trY, requires_grad=False)\n",
    "    optimizer.zero_grad()\n",
    "    y_pred = model(x)\n",
    "    loss = loss_func(y_pred, y)\n",
    "    loss.backward()\n",
    "    optimizer.step()\n",
    "    return loss.data[0]"
   ]
  },
  {
   "cell_type": "code",
   "execution_count": 32,
   "metadata": {
    "collapsed": true
   },
   "outputs": [],
   "source": [
    "def valid(model, loss_func, valX, valY):\n",
    "    x = Variable(valX, requires_grad=False)\n",
    "    y = Variable(valY, requires_grad=False)\n",
    "\n",
    "    outputs = model(x)\n",
    "    val_loss = loss_func(outputs, y)\n",
    "    # calculate accuracy\n",
    "    _, predY = torch.max(outputs.data, 1)\n",
    "    correct = (predY == y.data).sum()\n",
    "    val_acc = float(correct) / y.size(0)\n",
    "    return val_loss.data[0], val_acc"
   ]
  },
  {
   "cell_type": "code",
   "execution_count": 33,
   "metadata": {},
   "outputs": [
    {
     "name": "stdout",
     "output_type": "stream",
     "text": [
      "val loss:54.468 val acc:0.165\n",
      "val loss:43.162 val acc:0.232\n",
      "val loss:33.541 val acc:0.315\n",
      "val loss:26.174 val acc:0.419\n",
      "val loss:21.534 val acc:0.505\n",
      "val loss:17.751 val acc:0.607\n",
      "val loss:15.121 val acc:0.671\n",
      "val loss:13.354 val acc:0.705\n",
      "val loss:12.036 val acc:0.743\n",
      "val loss:10.863 val acc:0.766\n",
      "val loss:10.037 val acc:0.792\n",
      "val loss:9.457 val acc:0.809\n",
      "val loss:8.881 val acc:0.822\n",
      "val loss:8.356 val acc:0.834\n",
      "val loss:7.791 val acc:0.847\n",
      "val loss:7.457 val acc:0.850\n",
      "val loss:7.026 val acc:0.857\n",
      "val loss:6.618 val acc:0.869\n",
      "val loss:6.432 val acc:0.870\n",
      "val loss:6.111 val acc:0.880\n",
      "val loss:5.958 val acc:0.881\n",
      "val loss:5.861 val acc:0.886\n",
      "val loss:5.546 val acc:0.889\n",
      "val loss:5.479 val acc:0.887\n",
      "val loss:5.267 val acc:0.894\n",
      "val loss:5.201 val acc:0.893\n",
      "val loss:5.061 val acc:0.896\n",
      "val loss:4.851 val acc:0.904\n",
      "val loss:4.705 val acc:0.902\n",
      "val loss:4.722 val acc:0.901\n",
      "val loss:4.531 val acc:0.905\n",
      "val loss:4.500 val acc:0.908\n",
      "val loss:4.405 val acc:0.910\n",
      "val loss:4.229 val acc:0.914\n",
      "val loss:4.147 val acc:0.917\n",
      "val loss:4.095 val acc:0.920\n",
      "val loss:4.012 val acc:0.921\n",
      "val loss:3.900 val acc:0.924\n",
      "val loss:3.868 val acc:0.923\n",
      "val loss:3.846 val acc:0.924\n",
      "val loss:3.772 val acc:0.926\n",
      "val loss:3.768 val acc:0.930\n",
      "val loss:3.589 val acc:0.930\n",
      "val loss:3.653 val acc:0.928\n",
      "val loss:3.514 val acc:0.934\n",
      "val loss:3.449 val acc:0.936\n",
      "val loss:3.666 val acc:0.932\n",
      "val loss:3.404 val acc:0.938\n",
      "val loss:3.417 val acc:0.937\n",
      "val loss:3.340 val acc:0.939\n",
      "val loss:3.305 val acc:0.942\n",
      "val loss:3.299 val acc:0.942\n",
      "val loss:3.235 val acc:0.943\n",
      "val loss:3.148 val acc:0.945\n",
      "val loss:3.175 val acc:0.945\n",
      "val loss:3.083 val acc:0.945\n",
      "val loss:3.102 val acc:0.944\n",
      "val loss:3.101 val acc:0.944\n",
      "val loss:3.051 val acc:0.945\n",
      "val loss:2.971 val acc:0.949\n",
      "val loss:3.056 val acc:0.944\n",
      "val loss:2.950 val acc:0.944\n",
      "val loss:2.946 val acc:0.946\n",
      "val loss:2.875 val acc:0.947\n",
      "val loss:2.965 val acc:0.946\n",
      "val loss:2.896 val acc:0.954\n",
      "val loss:2.829 val acc:0.951\n",
      "val loss:2.912 val acc:0.948\n",
      "val loss:2.721 val acc:0.953\n",
      "val loss:2.690 val acc:0.954\n",
      "val loss:2.717 val acc:0.954\n",
      "val loss:2.796 val acc:0.951\n",
      "val loss:2.750 val acc:0.954\n",
      "val loss:2.587 val acc:0.956\n",
      "val loss:2.642 val acc:0.953\n",
      "val loss:2.595 val acc:0.955\n",
      "val loss:2.578 val acc:0.956\n",
      "val loss:2.522 val acc:0.957\n",
      "val loss:2.708 val acc:0.955\n",
      "val loss:2.507 val acc:0.958\n",
      "val loss:2.489 val acc:0.957\n",
      "val loss:2.492 val acc:0.958\n",
      "val loss:2.452 val acc:0.958\n",
      "val loss:2.463 val acc:0.959\n",
      "val loss:2.458 val acc:0.956\n",
      "val loss:2.414 val acc:0.958\n",
      "val loss:2.406 val acc:0.959\n",
      "val loss:2.350 val acc:0.959\n",
      "val loss:2.385 val acc:0.959\n",
      "val loss:2.333 val acc:0.961\n",
      "val loss:2.364 val acc:0.958\n",
      "val loss:2.404 val acc:0.957\n",
      "val loss:2.320 val acc:0.959\n",
      "val loss:2.331 val acc:0.957\n",
      "val loss:2.306 val acc:0.960\n",
      "val loss:2.278 val acc:0.961\n",
      "val loss:2.246 val acc:0.962\n",
      "val loss:2.292 val acc:0.960\n",
      "val loss:2.301 val acc:0.960\n",
      "val loss:2.260 val acc:0.961\n"
     ]
    }
   ],
   "source": [
    "digits = load_digits()\n",
    "data = digits['data']\n",
    "target = digits['target']\n",
    "# separate data\n",
    "trX, teX, trY, teY = train_test_split(data, target, test_size=0.2, random_state=0)\n",
    "\n",
    "n_samples = trX.shape[0]\n",
    "input_dim = trX.shape[1]\n",
    "n_classes = 10\n",
    "model = LogisticNet(input_dim, n_classes)\n",
    "optimizer = optim.SGD(model.parameters(), lr=0.0001, momentum=0.9)\n",
    "loss_func = nn.CrossEntropyLoss()\n",
    "\n",
    "train_ = torch.utils.data.TensorDataset(torch.from_numpy(trX).float(), torch.from_numpy(trY.astype(np.int64)))\n",
    "train_iter = torch.utils.data.DataLoader(train_, batch_size=100, shuffle=True)\n",
    "valid_ = torch.utils.data.TensorDataset(torch.from_numpy(trX).float(), torch.from_numpy(trY.astype(np.int64)))\n",
    "valid_iter = torch.utils.data.DataLoader(train_, batch_size=100, shuffle=True)\n",
    "\n",
    "N_EPOCHS = 100\n",
    "torch.manual_seed(1)\n",
    "for epoch in range(N_EPOCHS):\n",
    "    loss = 0\n",
    "    val_loss = 0\n",
    "    val_acc = 0\n",
    "    for i, train_data in enumerate(train_iter):\n",
    "        inputs, labels = train_data\n",
    "        loss += train(model, loss_func, optimizer, inputs, labels)\n",
    "    for j, valid_data in enumerate(valid_iter):\n",
    "        inputs, labels = valid_data\n",
    "        val_loss_, val_acc_ = valid(model, loss_func, inputs, labels)\n",
    "        val_loss += val_loss_\n",
    "        val_acc += val_acc_\n",
    "    print 'val loss:%.3f val acc:%.3f' % (val_loss, val_acc/(j+1))"
   ]
  },
  {
   "cell_type": "code",
   "execution_count": null,
   "metadata": {
    "collapsed": true
   },
   "outputs": [],
   "source": []
  }
 ],
 "metadata": {
  "kernelspec": {
   "display_name": "Python 2",
   "language": "python",
   "name": "python2"
  },
  "language_info": {
   "codemirror_mode": {
    "name": "ipython",
    "version": 2
   },
   "file_extension": ".py",
   "mimetype": "text/x-python",
   "name": "python",
   "nbconvert_exporter": "python",
   "pygments_lexer": "ipython2",
   "version": "2.7.14"
  }
 },
 "nbformat": 4,
 "nbformat_minor": 2
}
