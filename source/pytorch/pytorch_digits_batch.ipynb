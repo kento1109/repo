{
 "cells": [
  {
   "cell_type": "code",
   "execution_count": 1,
   "metadata": {
    "collapsed": true
   },
   "outputs": [],
   "source": [
    "import numpy as np\n",
    "import matplotlib.pyplot as plt\n",
    "import torch\n",
    "import torch.nn as nn\n",
    "import torch.optim as optim\n",
    "import torch.utils.data\n",
    "from torch.autograd import Variable\n",
    "from sklearn.datasets import load_digits\n",
    "from sklearn.model_selection import train_test_split"
   ]
  },
  {
   "cell_type": "code",
   "execution_count": 2,
   "metadata": {},
   "outputs": [],
   "source": [
    "class LogisticNet(torch.nn.Module):\n",
    "    def __init__(self, D_in, D_out):\n",
    "        super(LogisticNet, self).__init__()\n",
    "        self.linear = nn.Linear(D_in, D_out)\n",
    "        self.dropout = nn.Dropout(0.5)\n",
    "\n",
    "    def forward(self, x):\n",
    "        lin = self.linear(x)\n",
    "        lin = self.dropout(lin)\n",
    "        return lin"
   ]
  },
  {
   "cell_type": "code",
   "execution_count": 3,
   "metadata": {},
   "outputs": [],
   "source": [
    "def train(model, loss_func, optimizer, trX, trY):\n",
    "    model.train()\n",
    "    # model.eval()\n",
    "    x = Variable(trX, requires_grad=False)\n",
    "    y = Variable(trY, requires_grad=False)\n",
    "    optimizer.zero_grad()\n",
    "    y_pred = model(x)\n",
    "    loss = loss_func(y_pred, y)\n",
    "    loss.backward()\n",
    "    optimizer.step()\n",
    "    return loss.data[0]"
   ]
  },
  {
   "cell_type": "code",
   "execution_count": 4,
   "metadata": {},
   "outputs": [],
   "source": [
    "def valid(model, loss_func, valX, valY):\n",
    "    x = Variable(valX, requires_grad=False)\n",
    "    y = Variable(valY, requires_grad=False)\n",
    "\n",
    "    outputs = model(x)\n",
    "    val_loss = loss_func(outputs, y)\n",
    "    # calculate accuracy\n",
    "    _, predY = torch.max(outputs.data, 1)\n",
    "    correct = (predY == y.data).sum()\n",
    "    val_acc = float(correct) / y.size(0)\n",
    "    return val_loss.data[0], val_acc"
   ]
  },
  {
   "cell_type": "code",
   "execution_count": 10,
   "metadata": {
    "collapsed": false
   },
   "outputs": [
    {
     "data": {
      "image/png": "[encoded data removed]",
      "text/plain": [
       "<matplotlib.figure.Figure at 0x7f62a43ff550>"
      ]
     },
     "metadata": {},
     "output_type": "display_data"
    }
   ],
   "source": [
    "digits = load_digits()\n",
    "data = digits['data']\n",
    "target = digits['target']\n",
    "# separate data\n",
    "trX, teX, trY, teY = train_test_split(data, target, test_size=0.2, random_state=0)\n",
    "\n",
    "n_samples = trX.shape[0]\n",
    "input_dim = trX.shape[1]\n",
    "n_classes = 10\n",
    "model = LogisticNet(input_dim, n_classes)\n",
    "optimizer = optim.SGD(model.parameters(), lr=0.0001, momentum=0.9)\n",
    "loss_func = nn.CrossEntropyLoss()\n",
    "\n",
    "train_ = torch.utils.data.TensorDataset(torch.from_numpy(trX).float(), torch.from_numpy(trY.astype(np.int64)))\n",
    "train_iter = torch.utils.data.DataLoader(train_, batch_size=100, shuffle=True)\n",
    "valid_ = torch.utils.data.TensorDataset(torch.from_numpy(trX).float(), torch.from_numpy(trY.astype(np.int64)))\n",
    "valid_iter = torch.utils.data.DataLoader(train_, batch_size=100, shuffle=True)\n",
    "\n",
    "N_EPOCHS = 100\n",
    "torch.manual_seed(1)\n",
    "loss_all = []\n",
    "val_loss_all = []\n",
    "val_acc_all = []\n",
    "for epoch in range(N_EPOCHS):\n",
    "    loss = 0\n",
    "    val_loss = 0\n",
    "    val_acc = 0\n",
    "    for i, train_data in enumerate(train_iter):\n",
    "        inputs, labels = train_data\n",
    "        loss += train(model, loss_func, optimizer, inputs, labels)\n",
    "    loss_all.append(loss)\n",
    "    for j, valid_data in enumerate(valid_iter):\n",
    "        inputs, labels = valid_data\n",
    "        val_loss_, val_acc_ = valid(model, loss_func, inputs, labels)\n",
    "        val_loss += val_loss_\n",
    "        val_acc += val_acc_\n",
    "    val_loss_all.append(val_loss)\n",
    "    val_acc_all.append(val_acc)\n",
    "plt.plot(range(N_EPOCHS), loss_all, label='train_loss')\n",
    "plt.plot(range(N_EPOCHS), val_loss_all, label='valid_loss')\n",
    "plt.legend()\n",
    "plt.show()\n"
   ]
  },
  {
   "cell_type": "code",
   "execution_count": null,
   "metadata": {
    "collapsed": false
   },
   "outputs": [
    {
     "data": {
      "image/png": "[encoded data removed]",
      "text/plain": [
       "<matplotlib.figure.Figure at 0x7f628803c750>"
      ]
     },
     "metadata": {},
     "output_type": "display_data"
    }
   ],
   "source": [
    "plt.plot(range(N_EPOCHS), val_acc_all, label='valid_acc')\n",
    "plt.legend()\n",
    "plt.show()"
   ]
  },
  {
   "cell_type": "code",
   "execution_count": null,
   "metadata": {},
   "outputs": [],
   "source": []
  }
 ],
 "metadata": {
  "kernelspec": {
   "display_name": "Python 2",
   "language": "python",
   "name": "python2"
  },
  "language_info": {
   "codemirror_mode": {
    "name": "ipython",
    "version": 2
   },
   "file_extension": ".py",
   "mimetype": "text/x-python",
   "name": "python",
   "nbconvert_exporter": "python",
   "pygments_lexer": "ipython2",
   "version": "2.7.6"
  }
 },
 "nbformat": 4,
 "nbformat_minor": 0
}
