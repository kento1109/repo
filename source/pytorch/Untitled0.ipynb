{
  "nbformat": 4,
  "nbformat_minor": 0,
  "metadata": {
    "colab": {
      "name": "Untitled0.ipynb",
      "version": "0.3.2",
      "provenance": [],
      "collapsed_sections": []
    },
    "kernelspec": {
      "name": "python3",
      "display_name": "Python 3"
    },
    "accelerator": "GPU"
  },
  "cells": [
    {
      "metadata": {
        "id": "4DAocs9rLkoK",
        "colab_type": "code",
        "colab": {}
      },
      "cell_type": "code",
      "source": [
        "!pip install optuna"
      ],
      "execution_count": 0,
      "outputs": []
    },
    {
      "metadata": {
        "id": "EmYRs20WLnI5",
        "colab_type": "code",
        "colab": {}
      },
      "cell_type": "code",
      "source": [
        "import optuna\n",
        "import torch"
      ],
      "execution_count": 0,
      "outputs": []
    },
    {
      "metadata": {
        "id": "Hzk-fkP1b6UM",
        "colab_type": "code",
        "colab": {}
      },
      "cell_type": "code",
      "source": [
        "import numpy as np\n",
        "import torch\n",
        "import torch.nn as nn\n",
        "import torch.optim as optim\n",
        "from sklearn.datasets import load_digits\n",
        "from sklearn.model_selection import train_test_split"
      ],
      "execution_count": 0,
      "outputs": []
    },
    {
      "metadata": {
        "id": "ngHVFDAfLvcs",
        "colab_type": "code",
        "colab": {}
      },
      "cell_type": "code",
      "source": [
        "class LogisticNet(torch.nn.Module):\n",
        "    def __init__(self, D_in, D_out):\n",
        "        super(LogisticNet, self).__init__()\n",
        "        self.linear = nn.Linear(D_in, D_out)\n",
        "\n",
        "    def forward(self, x):\n",
        "        lin = self.linear(x)\n",
        "        return lin"
      ],
      "execution_count": 0,
      "outputs": []
    },
    {
      "metadata": {
        "id": "jVLBy7aBaZp9",
        "colab_type": "code",
        "colab": {}
      },
      "cell_type": "code",
      "source": [
        "def train(model, loss_func, optimizer, trX, trY):\n",
        "    x = torch.Tensor(trX)\n",
        "    y = torch.LongTensor(trY)\n",
        "    optimizer.zero_grad()\n",
        "    y_pred = model(x)\n",
        "    loss = loss_func(y_pred, y)\n",
        "    loss.backward()\n",
        "    optimizer.step()\n",
        "    return loss.item()\n",
        "  \n",
        "def valid(model, loss_func, valX, valY):\n",
        "    x = torch.Tensor(valX)\n",
        "    y = torch.LongTensor(valY)\n",
        "\n",
        "    outputs = model(x)\n",
        "    val_loss = loss_func(outputs, y)\n",
        "    _, predY = torch.max(outputs.data, 1)\n",
        "    correct = (predY == y.data).sum()\n",
        "    val_acc = float(correct) / y.size(0)\n",
        "    return val_loss.item(), val_acc"
      ],
      "execution_count": 0,
      "outputs": []
    },
    {
      "metadata": {
        "id": "9hQHaZtTbrLe",
        "colab_type": "code",
        "colab": {}
      },
      "cell_type": "code",
      "source": [
        "digits = load_digits()\n",
        "data = digits['data']\n",
        "target = digits['target']\n",
        "# separate data"
      ],
      "execution_count": 0,
      "outputs": []
    },
    {
      "metadata": {
        "id": "2KNpGmHwdQWD",
        "colab_type": "code",
        "colab": {}
      },
      "cell_type": "code",
      "source": [
        "def sgd(model, trial, weight_decay):\n",
        "    return optim.SGD(model.parameters(), lr=1e-2)\n",
        "  \n",
        "def adam(model, trial, weight_decay):\n",
        "    return optim.Adam(model.parameters())\n",
        "\n",
        "def create_optimizer(trial):\n",
        "    optimizer = trial.suggest_categorical('optimizer', ['sgd', 'adam'])\n",
        "    if optimizer[0] == 'sgd':\n",
        "      return optim.SGD(model.parameters(), lr=1e-2)\n",
        "    else:\n",
        "      return optim.Adam(model.parameters())"
      ],
      "execution_count": 0,
      "outputs": []
    },
    {
      "metadata": {
        "id": "jwsv3nQGfWbG",
        "colab_type": "code",
        "colab": {}
      },
      "cell_type": "code",
      "source": [
        "def load_data():\n",
        "  trX, teX, trY, teY = train_test_split(data, target, test_size=0.2, random_state=0)\n",
        "  trX = torch.from_numpy(trX).float()\n",
        "  teX = torch.from_numpy(teX).float()\n",
        "  trY = torch.from_numpy(trY.astype(np.int64))\n",
        "  teY = torch.from_numpy(teY.astype(np.int64))\n",
        "  return (trX, trY, teX, teY)"
      ],
      "execution_count": 0,
      "outputs": []
    },
    {
      "metadata": {
        "id": "JFc-HrcAfRLp",
        "colab_type": "code",
        "colab": {}
      },
      "cell_type": "code",
      "source": [
        "def objective(trial):\n",
        "  model = LogisticNet(64, 10)\n",
        "  optimizer = create_optimizer(trial)\n",
        "  loss_func = nn.CrossEntropyLoss()\n",
        "  N_EPOCHS = 50\n",
        "  for epoch in range(N_EPOCHS):\n",
        "      loss = train(model, loss_func, optimizer, trX, trY)\n",
        "      val_loss, val_acc = valid(model, loss_func, teX, teY)\n",
        "  return 1 - val_acc"
      ],
      "execution_count": 0,
      "outputs": []
    },
    {
      "metadata": {
        "id": "FdwSeH7kcEnb",
        "colab_type": "code",
        "colab": {
          "base_uri": "https://localhost:8080/",
          "height": 195
        },
        "outputId": "8877a0fd-168b-41b4-a994-4897ee38a232"
      },
      "cell_type": "code",
      "source": [
        "study = optuna.create_study()\n",
        "study.optimize(objective, n_trials=10)"
      ],
      "execution_count": 43,
      "outputs": [
        {
          "output_type": "stream",
          "text": [
            "[I 2019-03-09 03:37:10,971] Finished a trial resulted in value: 0.875. Current best value is 0.875 with parameters: {'optimizer': 'sgd'}.\n",
            "[I 2019-03-09 03:37:11,085] Finished a trial resulted in value: 0.8555555555555556. Current best value is 0.8555555555555556 with parameters: {'optimizer': 'adam'}.\n",
            "[I 2019-03-09 03:37:11,193] Finished a trial resulted in value: 0.8638888888888889. Current best value is 0.8555555555555556 with parameters: {'optimizer': 'adam'}.\n",
            "[I 2019-03-09 03:37:11,299] Finished a trial resulted in value: 0.9555555555555556. Current best value is 0.8555555555555556 with parameters: {'optimizer': 'adam'}.\n",
            "[I 2019-03-09 03:37:11,412] Finished a trial resulted in value: 0.8527777777777777. Current best value is 0.8527777777777777 with parameters: {'optimizer': 'adam'}.\n",
            "[I 2019-03-09 03:37:11,525] Finished a trial resulted in value: 0.9222222222222223. Current best value is 0.8527777777777777 with parameters: {'optimizer': 'adam'}.\n",
            "[I 2019-03-09 03:37:11,640] Finished a trial resulted in value: 0.9194444444444444. Current best value is 0.8527777777777777 with parameters: {'optimizer': 'adam'}.\n",
            "[I 2019-03-09 03:37:11,751] Finished a trial resulted in value: 0.9083333333333333. Current best value is 0.8527777777777777 with parameters: {'optimizer': 'adam'}.\n",
            "[I 2019-03-09 03:37:11,864] Finished a trial resulted in value: 0.9555555555555556. Current best value is 0.8527777777777777 with parameters: {'optimizer': 'adam'}.\n",
            "[I 2019-03-09 03:37:11,972] Finished a trial resulted in value: 0.9555555555555556. Current best value is 0.8527777777777777 with parameters: {'optimizer': 'adam'}.\n"
          ],
          "name": "stderr"
        }
      ]
    },
    {
      "metadata": {
        "id": "RsLhFDSlgPg5",
        "colab_type": "code",
        "colab": {
          "base_uri": "https://localhost:8080/",
          "height": 52
        },
        "outputId": "d5164c93-9c59-41a7-82eb-cc01842b7905"
      },
      "cell_type": "code",
      "source": [
        "print(\"best params: \", study.best_params)\n",
        "print(\"best test accuracy: \", study.best_value)"
      ],
      "execution_count": 45,
      "outputs": [
        {
          "output_type": "stream",
          "text": [
            "best params:  {'optimizer': 'adam'}\n",
            "best test accuracy:  0.8527777777777777\n"
          ],
          "name": "stdout"
        }
      ]
    },
    {
      "metadata": {
        "id": "nQgfpR9MgUW5",
        "colab_type": "code",
        "colab": {}
      },
      "cell_type": "code",
      "source": [
        ""
      ],
      "execution_count": 0,
      "outputs": []
    }
  ]
}