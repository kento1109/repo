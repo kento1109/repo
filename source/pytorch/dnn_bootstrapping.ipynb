{
 "cells": [
  {
   "cell_type": "code",
   "execution_count": 437,
   "metadata": {},
   "outputs": [],
   "source": [
    "from sklearn.datasets import make_classification\n",
    "from sklearn.model_selection import train_test_split\n",
    "from sklearn.metrics import confusion_matrix\n",
    "import numpy as np\n",
    "\n",
    "N = 10000\n",
    "input_dims = 500\n",
    "seed = 1234\n",
    "pos_ratio = 0.5\n",
    "\n",
    "X, y = make_classification(n_samples=N, \n",
    "                           n_features=n_features, \n",
    "                           random_state=seed, \n",
    "                           weights=[1 - pos_ratio, pos_ratio])"
   ]
  },
  {
   "cell_type": "code",
   "execution_count": 438,
   "metadata": {},
   "outputs": [
    {
     "name": "stdout",
     "output_type": "stream",
     "text": [
      "train: 9000\n",
      "train pos ratio: 0.50\n",
      "valid: 1000\n",
      "valid pos ratio: 0.49\n"
     ]
    }
   ],
   "source": [
    "# 訓練データと評価データに分類\n",
    "train_x_np, valid_x_np, train_y_np, valid_y_np = train_test_split(X, y, test_size=0.1, random_state=seed)\n",
    "print(\"train:\", train_y_np.shape[0])\n",
    "print(\"train pos ratio: {:.2f}\".format(float(train_y_np[train_y_np == 1].shape[0]) / train_y_np.shape[0]))\n",
    "print(\"valid:\", valid_y_np.shape[0])\n",
    "print(\"valid pos ratio: {:.2f}\".format(float(valid_y_np[valid_y_np == 1].shape[0]) / valid_y_np.shape[0]))"
   ]
  },
  {
   "cell_type": "markdown",
   "metadata": {},
   "source": [
    "## 分類器の作成"
   ]
  },
  {
   "cell_type": "code",
   "execution_count": 439,
   "metadata": {},
   "outputs": [],
   "source": [
    "import torch\n",
    "import torch.nn as nn\n",
    "import torch.nn.functional as F\n",
    "from torch.autograd import Variable\n",
    "from torch.utils.data import TensorDataset, DataLoader\n",
    "\n",
    "# データセットを作成\n",
    "train_batch_size = 64\n",
    "train_data = TensorDataset(torch.from_numpy(train_x_np).float(), torch.from_numpy(train_y_np.astype(np.int64)))\n",
    "train_iter = DataLoader(train_data, batch_size=train_batch_size, shuffle=True)  # the data reshuffled at every epoch \n",
    "valid_batch_size = 64\n",
    "valid_data = TensorDataset(torch.from_numpy(valid_x_np).float(), torch.from_numpy(valid_y_np.astype(np.int64)))\n",
    "valid_iter = DataLoader(valid_data, batch_size=valid_batch_size)"
   ]
  },
  {
   "cell_type": "code",
   "execution_count": 440,
   "metadata": {},
   "outputs": [],
   "source": [
    "class MLP(nn.Module):\n",
    "    \n",
    "    def __init__(self, input_dims, hidden_dims, num_classes, dropout):\n",
    "        super(MLP, self).__init__()\n",
    "        self.fc1 = nn.Linear(input_dims, hidden_dims)\n",
    "        self.relu = nn.ReLU()\n",
    "        self.dropout = nn.Dropout(dropout)\n",
    "        self.fc2 = nn.Linear(hidden_dims, num_classes)\n",
    "    \n",
    "    def forward(self, x):\n",
    "        out = self.fc1(x)\n",
    "        out = self.relu(out)\n",
    "        out = self.dropout(out)\n",
    "        out = self.fc2(out)\n",
    "        return out"
   ]
  },
  {
   "cell_type": "code",
   "execution_count": 441,
   "metadata": {},
   "outputs": [],
   "source": [
    "# model instance の作成\n",
    "hidden_dims = 200\n",
    "num_classes = 2\n",
    "dropout = 0.5\n",
    "model = MLP(input_dims, hidden_dims, num_classes, dropout)\n",
    "# optimizer = torch.optim.Adam(model.parameters(), lr=1e-4, weight_decay=0.1)\n",
    "optimizer = torch.optim.SGD(model.parameters(), lr=1e-4, momentum=0.9, weight_decay=0.01)"
   ]
  },
  {
   "cell_type": "code",
   "execution_count": 442,
   "metadata": {},
   "outputs": [], 
   "source": [
    "def train(train_iter):\n",
    "    loss = 0\n",
    "    correct = 0\n",
    "    \n",
    "    model.train()\n",
    "    for i, (train_x, train_y) in enumerate(train_iter):\n",
    "        optimizer.zero_grad()\n",
    "        outputs = model(train_x)\n",
    "        loss_ = F.cross_entropy(outputs, train_y)\n",
    "        loss_.backward()\n",
    "        optimizer.step()\n",
    "        correct_ = (torch.max(outputs, 1)[1].view(train_y.size()).data == train_y.data).sum()\n",
    "        correct += correct_\n",
    "        loss += loss_.item()\n",
    "    return correct, loss / len(train_iter)\n",
    "\n",
    "def valid(valid_iter):\n",
    "    loss = 0\n",
    "    correct = 0\n",
    "\n",
    "    model.eval()\n",
    "    for i, (valid_x, valid_y) in enumerate(valid_iter):\n",
    "        outputs = model(valid_x)\n",
    "        loss_ = F.cross_entropy(outputs, valid_y)\n",
    "        loss += loss_.item()\n",
    "        correct_ = (torch.max(outputs, 1)[1].view(valid_y.size()).data == valid_y.data).sum()\n",
    "        correct += correct_\n",
    "    return correct, loss / len(valid_iter)"
   ]
  },
  {
   "cell_type": "code",
   "execution_count": 443,
   "metadata": {},
   "outputs": [
    {
     "name": "stdout",
     "output_type": "stream",
     "text": [
      "acc: 0.5129\n"
     ]
    }
   ],
   "source": [
    "# 学習前の予測精度\n",
    "train_size = train_x_np.shape[0]\n",
    "corrects = 0\n",
    "for i, (train_x, train_y) in enumerate(train_iter):\n",
    "    outputs = model(train_x)\n",
    "    correct = (torch.max(outputs, 1)[1].view(train_y.size()).data == train_y.data).sum()\n",
    "    corrects += correct\n",
    "print('acc: {:.4f}'.format(float(corrects) / train_size))"
   ]
  },
  {
   "cell_type": "code",
   "execution_count": 446,
   "metadata": {},
   "outputs": [
    {
     "name": "stdout",
     "output_type": "stream",
     "text": [
      "epoch:1 loss: 0.3210 val_loss: 0.3284 acc: 0.8809 val acc: 0.8840\n",
      "epoch:2 loss: 0.3199 val_loss: 0.3265 acc: 0.8781 val acc: 0.8840\n",
      "epoch:3 loss: 0.3153 val_loss: 0.3248 acc: 0.8840 val acc: 0.8840\n",
      "epoch:4 loss: 0.3169 val_loss: 0.3231 acc: 0.8792 val acc: 0.8850\n",
      "epoch:5 loss: 0.3139 val_loss: 0.3215 acc: 0.8808 val acc: 0.8850\n",
      "epoch:6 loss: 0.3104 val_loss: 0.3201 acc: 0.8826 val acc: 0.8840\n",
      "epoch:7 loss: 0.3076 val_loss: 0.3187 acc: 0.8827 val acc: 0.8830\n",
      "epoch:8 loss: 0.3059 val_loss: 0.3173 acc: 0.8867 val acc: 0.8830\n",
      "epoch:9 loss: 0.3014 val_loss: 0.3160 acc: 0.8891 val acc: 0.8840\n",
      "epoch:10 loss: 0.2997 val_loss: 0.3148 acc: 0.8867 val acc: 0.8850\n",
      "epoch:11 loss: 0.2965 val_loss: 0.3135 acc: 0.8914 val acc: 0.8840\n",
      "epoch:12 loss: 0.3004 val_loss: 0.3125 acc: 0.8859 val acc: 0.8850\n",
      "epoch:13 loss: 0.2977 val_loss: 0.3115 acc: 0.8883 val acc: 0.8850\n",
      "epoch:14 loss: 0.2989 val_loss: 0.3105 acc: 0.8843 val acc: 0.8850\n",
      "epoch:15 loss: 0.2940 val_loss: 0.3095 acc: 0.8880 val acc: 0.8840\n",
      "epoch:16 loss: 0.2913 val_loss: 0.3086 acc: 0.8907 val acc: 0.8840\n",
      "epoch:17 loss: 0.2879 val_loss: 0.3077 acc: 0.8941 val acc: 0.8840\n",
      "epoch:18 loss: 0.2883 val_loss: 0.3068 acc: 0.8890 val acc: 0.8840\n",
      "epoch:19 loss: 0.2849 val_loss: 0.3060 acc: 0.8949 val acc: 0.8840\n",
      "epoch:20 loss: 0.2818 val_loss: 0.3054 acc: 0.8958 val acc: 0.8840\n",
      "epoch:21 loss: 0.2808 val_loss: 0.3046 acc: 0.8922 val acc: 0.8840\n",
      "epoch:22 loss: 0.2827 val_loss: 0.3039 acc: 0.8927 val acc: 0.8840\n",
      "epoch:23 loss: 0.2795 val_loss: 0.3032 acc: 0.8952 val acc: 0.8830\n",
      "epoch:24 loss: 0.2830 val_loss: 0.3027 acc: 0.8934 val acc: 0.8840\n",
      "epoch:25 loss: 0.2770 val_loss: 0.3021 acc: 0.8966 val acc: 0.8840\n",
      "epoch:26 loss: 0.2722 val_loss: 0.3016 acc: 0.8984 val acc: 0.8830\n",
      "epoch:27 loss: 0.2728 val_loss: 0.3011 acc: 0.8993 val acc: 0.8840\n",
      "epoch:28 loss: 0.2736 val_loss: 0.3006 acc: 0.8993 val acc: 0.8830\n",
      "epoch:29 loss: 0.2699 val_loss: 0.3001 acc: 0.8993 val acc: 0.8820\n",
      "epoch:30 loss: 0.2665 val_loss: 0.2996 acc: 0.8997 val acc: 0.8830\n",
      "epoch:31 loss: 0.2672 val_loss: 0.2992 acc: 0.9017 val acc: 0.8830\n",
      "epoch:32 loss: 0.2661 val_loss: 0.2988 acc: 0.8998 val acc: 0.8820\n",
      "epoch:33 loss: 0.2630 val_loss: 0.2984 acc: 0.9026 val acc: 0.8830\n",
      "epoch:34 loss: 0.2645 val_loss: 0.2982 acc: 0.9034 val acc: 0.8820\n",
      "epoch:35 loss: 0.2684 val_loss: 0.2977 acc: 0.8993 val acc: 0.8820\n",
      "epoch:36 loss: 0.2623 val_loss: 0.2974 acc: 0.9034 val acc: 0.8820\n",
      "epoch:37 loss: 0.2642 val_loss: 0.2972 acc: 0.8986 val acc: 0.8820\n",
      "epoch:38 loss: 0.2630 val_loss: 0.2969 acc: 0.9046 val acc: 0.8840\n",
      "epoch:39 loss: 0.2580 val_loss: 0.2967 acc: 0.9074 val acc: 0.8840\n",
      "epoch:40 loss: 0.2557 val_loss: 0.2964 acc: 0.9062 val acc: 0.8840\n",
      "epoch:41 loss: 0.2573 val_loss: 0.2962 acc: 0.9070 val acc: 0.8830\n",
      "epoch:42 loss: 0.2590 val_loss: 0.2959 acc: 0.9041 val acc: 0.8830\n",
      "epoch:43 loss: 0.2574 val_loss: 0.2957 acc: 0.9052 val acc: 0.8830\n",
      "epoch:44 loss: 0.2569 val_loss: 0.2955 acc: 0.9046 val acc: 0.8830\n",
      "epoch:45 loss: 0.2521 val_loss: 0.2953 acc: 0.9058 val acc: 0.8830\n",
      "epoch:46 loss: 0.2559 val_loss: 0.2951 acc: 0.9057 val acc: 0.8840\n",
      "epoch:47 loss: 0.2528 val_loss: 0.2950 acc: 0.9064 val acc: 0.8830\n",
      "epoch:48 loss: 0.2536 val_loss: 0.2948 acc: 0.9087 val acc: 0.8820\n",
      "epoch:49 loss: 0.2506 val_loss: 0.2947 acc: 0.9071 val acc: 0.8820\n",
      "epoch:50 loss: 0.2503 val_loss: 0.2945 acc: 0.9076 val acc: 0.8810\n"
     ]
    }
   ],
   "source": [
    "epochs = 50\n",
    "train_size = train_x_np.shape[0]\n",
    "valid_size = valid_x_np.shape[0]\n",
    "\n",
    "loss_list = []\n",
    "valid_loss_list = []\n",
    "acc_list = []\n",
    "valid_acc_list = []\n",
    "\n",
    "for epoch in range(1, epochs + 1):\n",
    "    correct, loss = train(train_iter)\n",
    "    loss_list.append(loss)\n",
    "    acc_list.append(float(correct) / train_size)\n",
    "    val_correct, val_loss = valid(valid_iter)\n",
    "    valid_loss_list.append(val_loss)\n",
    "    valid_acc_list.append(float(val_correct) / valid_size)\n",
    "    print('epoch:{} loss: {:.4f} val_loss: {:.4f} acc: {:.4f} val acc: {:.4f}'.format(\n",
    "        epoch, loss, val_loss, float(correct) / train_size, float(val_correct) / valid_size))"
   ]
  },
  {
   "cell_type": "code",
   "execution_count": 447,
   "metadata": {},
   "outputs": [],
   "source": [
    "def predict(model, test_x):\n",
    "    model.eval()\n",
    "    outputs = model(test_x)\n",
    "    return torch.max(outputs, 1)[1]"
   ]
  },
  {
   "cell_type": "code",
   "execution_count": 448,
   "metadata": {},
   "outputs": [
    {
     "name": "stdout",
     "output_type": "stream",
     "text": [
      "Precision: 0.896\n",
      "Recall: 0.858\n",
      "F-measure: 0.876\n"
     ]
    }
   ],
   "source": [
    "# metrics\n",
    "test_x = torch.from_numpy(valid_x_np).float()\n",
    "pred = predict(model, test_x)\n",
    "\n",
    "tn, fp, fn, tp = confusion_matrix(valid_y_np, pred.numpy()).ravel()\n",
    "\n",
    "precision = float(tp) / (tp + fp)\n",
    "recall = float(tp) / (tp + fn)\n",
    "\n",
    "print(\"Precision: {:.3f}\".format(precision))\n",
    "print(\"Recall: {:.3f}\".format(recall))\n",
    "print(\"F-measure: {:.3f}\".format((2 * recall * precision) / (recall + precision)))"
   ]
  },
  {
   "cell_type": "code",
   "execution_count": 449,
   "metadata": {},
   "outputs": [
    {
     "data": {
      "image/png": "[encoded data removed]",
      "text/plain": [
       "<matplotlib.figure.Figure at 0x7fc93605f6d8>"
      ]
     },
     "metadata": {},
     "output_type": "display_data"
    }
   ],
   "source": [
    "import matplotlib.pyplot as plt\n",
    "plt.plot(range(epochs),loss_list, label=\"train loss\")\n",
    "plt.plot(range(epochs),valid_loss_list, label=\"valid loss\")\n",
    "plt.legend()\n",
    "plt.show()"
   ]
  },
  {
   "cell_type": "code",
   "execution_count": 450,
   "metadata": {},
   "outputs": [
    {
     "data": {
      "image/png": "[encoded data removed]",
      "text/plain": [
       "<matplotlib.figure.Figure at 0x7fc9361511d0>"
      ]
     },
     "metadata": {},
     "output_type": "display_data"
    }
   ],
   "source": [
    "plt.plot(range(epochs),acc_list, label=\"train acc\")\n",
    "plt.plot(range(epochs),valid_acc_list, label=\"valid acc\")\n",
    "plt.legend()\n",
    "plt.show()"
   ]
  },
  {
   "cell_type": "markdown",
   "metadata": {},
   "source": [
    "## 不均衡データで検証"
   ]
  },
  {
   "cell_type": "code",
   "execution_count": 451,
   "metadata": {},
   "outputs": [],
   "source": [
    "N = 10000\n",
    "input_dims = 500\n",
    "seed = 1234\n",
    "pos_ratio = 0.1\n",
    "\n",
    "X, y = make_classification(n_samples=N, \n",
    "                           n_features=n_features, \n",
    "                           random_state=seed, \n",
    "                           weights=[1 - pos_ratio, pos_ratio])"
   ]
  },
  {
   "cell_type": "code",
   "execution_count": 452,
   "metadata": {},
   "outputs": [
    {
     "name": "stdout",
     "output_type": "stream",
     "text": [
      "train: 9000\n",
      "train pos ratio: 0.10\n",
      "valid: 1000\n",
      "valid pos ratio: 0.11\n"
     ]
    }
   ],
   "source": [
    "# 訓練データと評価データに分類\n",
    "train_x_np, valid_x_np, train_y_np, valid_y_np = train_test_split(X, y, test_size=0.1, random_state=seed)\n",
    "print(\"train:\", train_y_np.shape[0])\n",
    "print(\"train pos ratio: {:.2f}\".format(float(train_y_np[train_y_np == 1].shape[0]) / train_y_np.shape[0]))\n",
    "print(\"valid:\", valid_y_np.shape[0])\n",
    "print(\"valid pos ratio: {:.2f}\".format(float(valid_y_np[valid_y_np == 1].shape[0]) / valid_y_np.shape[0]))\n",
    "\n",
    "# データセットを作成\n",
    "train_batch_size = 64\n",
    "train_data = TensorDataset(torch.from_numpy(train_x_np).float(), torch.from_numpy(train_y_np.astype(np.int64)))\n",
    "train_iter = DataLoader(train_data, batch_size=train_batch_size, shuffle=True)  # the data reshuffled at every epoch \n",
    "valid_batch_size = 64\n",
    "valid_data = TensorDataset(torch.from_numpy(valid_x_np).float(), torch.from_numpy(valid_y_np.astype(np.int64)))\n",
    "valid_iter = DataLoader(valid_data, batch_size=valid_batch_size)"
   ]
  },
  {
   "cell_type": "code",
   "execution_count": 453,
   "metadata": {},
   "outputs": [],
   "source": [
    "model = MLP(input_dims, hidden_dims, num_classes, dropout)\n",
    "# optimizer = torch.optim.Adam(model.parameters(), lr=1e-4, weight_decay=0.01)\n",
    "optimizer = torch.optim.SGD(model.parameters(), lr=1e-4, momentum=0.9, weight_decay=0.01)"
   ]
  },
  {
   "cell_type": "code",
   "execution_count": 454,
   "metadata": {},
   "outputs": [
    {
     "name": "stdout",
     "output_type": "stream",
     "text": [
      "epoch:1 loss: 0.6079 val_loss: 0.4637 acc: 0.6789 val acc: 0.8880\n",
      "epoch:2 loss: 0.4168 val_loss: 0.3788 acc: 0.8907 val acc: 0.8910\n",
      "epoch:3 loss: 0.3636 val_loss: 0.3517 acc: 0.8953 val acc: 0.8910\n",
      "epoch:4 loss: 0.3454 val_loss: 0.3405 acc: 0.8954 val acc: 0.8910\n",
      "epoch:5 loss: 0.3383 val_loss: 0.3347 acc: 0.8954 val acc: 0.8910\n",
      "epoch:6 loss: 0.3295 val_loss: 0.3311 acc: 0.8956 val acc: 0.8910\n",
      "epoch:7 loss: 0.3265 val_loss: 0.3284 acc: 0.8954 val acc: 0.8910\n",
      "epoch:8 loss: 0.3237 val_loss: 0.3260 acc: 0.8954 val acc: 0.8910\n",
      "epoch:9 loss: 0.3210 val_loss: 0.3239 acc: 0.8954 val acc: 0.8910\n",
      "epoch:10 loss: 0.3165 val_loss: 0.3219 acc: 0.8954 val acc: 0.8910\n",
      "epoch:11 loss: 0.3144 val_loss: 0.3201 acc: 0.8954 val acc: 0.8910\n",
      "epoch:12 loss: 0.3114 val_loss: 0.3182 acc: 0.8954 val acc: 0.8910\n",
      "epoch:13 loss: 0.3110 val_loss: 0.3163 acc: 0.8954 val acc: 0.8910\n",
      "epoch:14 loss: 0.3086 val_loss: 0.3145 acc: 0.8954 val acc: 0.8910\n",
      "epoch:15 loss: 0.3051 val_loss: 0.3126 acc: 0.8954 val acc: 0.8910\n",
      "epoch:16 loss: 0.3014 val_loss: 0.3109 acc: 0.8954 val acc: 0.8910\n",
      "epoch:17 loss: 0.3017 val_loss: 0.3091 acc: 0.8954 val acc: 0.8910\n",
      "epoch:18 loss: 0.2982 val_loss: 0.3073 acc: 0.8954 val acc: 0.8910\n",
      "epoch:19 loss: 0.2956 val_loss: 0.3055 acc: 0.8954 val acc: 0.8910\n",
      "epoch:20 loss: 0.2942 val_loss: 0.3038 acc: 0.8954 val acc: 0.8910\n",
      "epoch:21 loss: 0.2922 val_loss: 0.3021 acc: 0.8954 val acc: 0.8910\n",
      "epoch:22 loss: 0.2898 val_loss: 0.3004 acc: 0.8954 val acc: 0.8910\n",
      "epoch:23 loss: 0.2879 val_loss: 0.2987 acc: 0.8954 val acc: 0.8910\n",
      "epoch:24 loss: 0.2858 val_loss: 0.2970 acc: 0.8954 val acc: 0.8910\n",
      "epoch:25 loss: 0.2844 val_loss: 0.2953 acc: 0.8956 val acc: 0.8910\n",
      "epoch:26 loss: 0.2815 val_loss: 0.2936 acc: 0.8954 val acc: 0.8910\n",
      "epoch:27 loss: 0.2771 val_loss: 0.2919 acc: 0.8957 val acc: 0.8910\n",
      "epoch:28 loss: 0.2776 val_loss: 0.2903 acc: 0.8959 val acc: 0.8910\n",
      "epoch:29 loss: 0.2763 val_loss: 0.2887 acc: 0.8958 val acc: 0.8910\n",
      "epoch:30 loss: 0.2735 val_loss: 0.2871 acc: 0.8958 val acc: 0.8910\n",
      "epoch:31 loss: 0.2719 val_loss: 0.2855 acc: 0.8962 val acc: 0.8910\n",
      "epoch:32 loss: 0.2687 val_loss: 0.2839 acc: 0.8966 val acc: 0.8910\n",
      "epoch:33 loss: 0.2686 val_loss: 0.2823 acc: 0.8961 val acc: 0.8910\n",
      "epoch:34 loss: 0.2662 val_loss: 0.2807 acc: 0.8962 val acc: 0.8910\n",
      "epoch:35 loss: 0.2660 val_loss: 0.2791 acc: 0.8961 val acc: 0.8910\n",
      "epoch:36 loss: 0.2623 val_loss: 0.2776 acc: 0.8963 val acc: 0.8910\n",
      "epoch:37 loss: 0.2603 val_loss: 0.2760 acc: 0.8966 val acc: 0.8910\n",
      "epoch:38 loss: 0.2563 val_loss: 0.2744 acc: 0.8968 val acc: 0.8910\n",
      "epoch:39 loss: 0.2558 val_loss: 0.2730 acc: 0.8966 val acc: 0.8910\n",
      "epoch:40 loss: 0.2549 val_loss: 0.2714 acc: 0.8971 val acc: 0.8910\n",
      "epoch:41 loss: 0.2530 val_loss: 0.2699 acc: 0.8970 val acc: 0.8910\n",
      "epoch:42 loss: 0.2485 val_loss: 0.2684 acc: 0.8976 val acc: 0.8910\n",
      "epoch:43 loss: 0.2503 val_loss: 0.2669 acc: 0.8992 val acc: 0.8910\n",
      "epoch:44 loss: 0.2462 val_loss: 0.2655 acc: 0.8989 val acc: 0.8910\n",
      "epoch:45 loss: 0.2443 val_loss: 0.2640 acc: 0.8989 val acc: 0.8910\n",
      "epoch:46 loss: 0.2429 val_loss: 0.2626 acc: 0.9006 val acc: 0.8920\n",
      "epoch:47 loss: 0.2408 val_loss: 0.2612 acc: 0.9002 val acc: 0.8920\n",
      "epoch:48 loss: 0.2384 val_loss: 0.2598 acc: 0.8999 val acc: 0.8920\n",
      "epoch:49 loss: 0.2371 val_loss: 0.2584 acc: 0.9007 val acc: 0.8920\n",
      "epoch:50 loss: 0.2356 val_loss: 0.2572 acc: 0.9019 val acc: 0.8930\n"
     ]
    }
   ],
   "source": [
    "epochs = 50\n",
    "train_size = train_x_np.shape[0]\n",
    "valid_size = valid_x_np.shape[0]\n",
    "\n",
    "loss_list = []\n",
    "valid_loss_list = []\n",
    "acc_list = []\n",
    "valid_acc_list = []\n",
    "\n",
    "for epoch in range(1, epochs + 1):\n",
    "    correct, loss = train(train_iter)\n",
    "    loss_list.append(loss)\n",
    "    acc_list.append(float(correct) / train_size)\n",
    "    val_correct, val_loss = valid(valid_iter)\n",
    "    valid_loss_list.append(val_loss)\n",
    "    valid_acc_list.append(float(val_correct) / valid_size)\n",
    "    print('epoch:{} loss: {:.4f} val_loss: {:.4f} acc: {:.4f} val acc: {:.4f}'.format(\n",
    "        epoch, loss, val_loss, float(correct) / train_size, float(val_correct) / valid_size))"
   ]
  },
  {
   "cell_type": "code",
   "execution_count": 456,
   "metadata": {},
   "outputs": [
    {
     "name": "stdout",
     "output_type": "stream",
     "text": [
      "Precision: 1.000\n",
      "Recall: 0.018\n",
      "F-measure: 0.036\n",
      "2 positive samples in prediction\n"
     ]
    }
   ],
   "source": [
    "# metrics\n",
    "test_x = torch.from_numpy(valid_x_np).float()\n",
    "pred = predict(model, test_x)\n",
    "\n",
    "tn, fp, fn, tp = confusion_matrix(valid_y_np, pred.numpy()).ravel()\n",
    "\n",
    "precision = float(tp) / (tp + fp)\n",
    "recall = float(tp) / (tp + fn)\n",
    "\n",
    "print(\"Precision: {:.3f}\".format(precision))\n",
    "print(\"Recall: {:.3f}\".format(recall))\n",
    "print(\"F-measure: {:.3f}\".format((2 * recall * precision) / (recall + precision)))\n",
    "\n",
    "print(\"{0} positive samples in prediction\".format(torch.sum((pred == 1).int()).item()))"
   ]
  },
  {
   "cell_type": "code",
   "execution_count": 457,
   "metadata": {},
   "outputs": [
    {
     "data": {
      "image/png": "[encoded data removed]",
      "text/plain": [
       "<matplotlib.figure.Figure at 0x7fc9306b3e10>"
      ]
     },
     "metadata": {},
     "output_type": "display_data"
    }
   ],
   "source": [
    "plt.plot(range(epochs),loss_list, label=\"train loss\")\n",
    "plt.plot(range(epochs),valid_loss_list, label=\"valid loss\")\n",
    "plt.legend()\n",
    "plt.show()"
   ]
  },
  {
   "cell_type": "code",
   "execution_count": 458,
   "metadata": {},
   "outputs": [
    {
     "data": {
      "image/png": "[encoded data removed]",
      "text/plain": [
       "<matplotlib.figure.Figure at 0x7fc93302f898>"
      ]
     },
     "metadata": {},
     "output_type": "display_data"
    }
   ],
   "source": [
    "plt.plot(range(epochs),acc_list, label=\"train acc\")\n",
    "plt.plot(range(epochs),valid_acc_list, label=\"valid acc\")\n",
    "plt.legend()\n",
    "plt.show()"
   ]
  },
  {
   "cell_type": "markdown",
   "metadata": {},
   "source": [
    "## CNN with bootstrapping method\n",
    "---\n",
    "https://users.cs.fiu.edu/~chens/PDF/ISM15.pdf"
   ]
  },
  {
   "cell_type": "code",
   "execution_count": 459,
   "metadata": {},
   "outputs": [
    {
     "name": "stdout",
     "output_type": "stream",
     "text": [
      "negative train size:  8059\n",
      "positive train size:  941\n",
      "positive ratio: 0.10\n"
     ]
    }
   ],
   "source": [
    "# divide train data into negative and positive classes\n",
    "neg_train_x_np = train_x_np[train_y_np == 0]\n",
    "neg_train_y_np = train_y_np[train_y_np == 0]\n",
    "pos_train_x_np = train_x_np[train_y_np == 1]\n",
    "pos_train_y_np = train_y_np[train_y_np == 1]\n",
    "print(\"negative train size: \", neg_train_y_np.shape[0])\n",
    "print(\"positive train size: \", pos_train_y_np.shape[0])\n",
    "print(\"positive ratio: {:.2f}\".format(float(pos_train_y_np.shape[0]) / train_y_np.shape[0]))\n",
    "\n",
    "neg_train_data = TensorDataset(torch.from_numpy(neg_train_x_np).float(), torch.from_numpy(neg_train_y_np.astype(np.int64)))\n",
    "neg_train_iter = DataLoader(neg_train_data, batch_size=int(train_batch_size / 2), shuffle=True)  # the data reshuffled at every epoch "
   ]
  },
  {
   "cell_type": "code",
   "execution_count": 460,
   "metadata": {},
   "outputs": [],
   "source": [
    "def train(pn_train):\n",
    "    model.train()\n",
    "    \n",
    "    for train_x, train_y in pn_train:\n",
    "        optimizer.zero_grad()\n",
    "        outputs = model(train_x)\n",
    "        loss = F.cross_entropy(outputs, train_y)\n",
    "        loss.backward()\n",
    "        optimizer.step()\n",
    "        correct = (torch.max(outputs, 1)[1].view(train_y.size()).data == train_y.data).sum()\n",
    "    return correct, loss.item()   "
   ]
  },
  {
   "cell_type": "code",
   "execution_count": 461,
   "metadata": {},
   "outputs": [],
   "source": [
    "def data_shuffle(X, y):\n",
    "    for l in [X, y]:\n",
    "        np.random.shuffle(l)"
   ]
  },
  {
   "cell_type": "code",
   "execution_count": 462,
   "metadata": {},
   "outputs": [
    {
     "name": "stdout",
     "output_type": "stream",
     "text": [
      "epoch:1 loss: 0.7032 val_loss: 0.6679 acc: 0.5272 val acc: 0.6140\n",
      "epoch:2 loss: 0.6759 val_loss: 0.6511 acc: 0.5731 val acc: 0.6630\n",
      "epoch:3 loss: 0.6517 val_loss: 0.6319 acc: 0.6202 val acc: 0.7120\n",
      "epoch:4 loss: 0.6292 val_loss: 0.6094 acc: 0.6594 val acc: 0.7540\n",
      "epoch:5 loss: 0.6068 val_loss: 0.5894 acc: 0.6952 val acc: 0.7810\n",
      "epoch:6 loss: 0.5883 val_loss: 0.5718 acc: 0.7215 val acc: 0.8020\n",
      "epoch:7 loss: 0.5661 val_loss: 0.5478 acc: 0.7453 val acc: 0.8210\n",
      "epoch:8 loss: 0.5460 val_loss: 0.5280 acc: 0.7668 val acc: 0.8390\n",
      "epoch:9 loss: 0.5269 val_loss: 0.5075 acc: 0.7832 val acc: 0.8520\n",
      "epoch:10 loss: 0.5055 val_loss: 0.4891 acc: 0.7975 val acc: 0.8570\n",
      "epoch:11 loss: 0.4888 val_loss: 0.4715 acc: 0.8080 val acc: 0.8680\n",
      "epoch:12 loss: 0.4683 val_loss: 0.4539 acc: 0.8238 val acc: 0.8730\n",
      "epoch:13 loss: 0.4500 val_loss: 0.4373 acc: 0.8314 val acc: 0.8770\n",
      "epoch:14 loss: 0.4356 val_loss: 0.4239 acc: 0.8397 val acc: 0.8830\n",
      "epoch:15 loss: 0.4194 val_loss: 0.4090 acc: 0.8482 val acc: 0.8860\n",
      "epoch:16 loss: 0.4063 val_loss: 0.3957 acc: 0.8511 val acc: 0.8890\n",
      "epoch:17 loss: 0.3959 val_loss: 0.3857 acc: 0.8555 val acc: 0.8910\n",
      "epoch:18 loss: 0.3847 val_loss: 0.3745 acc: 0.8589 val acc: 0.8900\n",
      "epoch:19 loss: 0.3720 val_loss: 0.3630 acc: 0.8701 val acc: 0.8930\n",
      "epoch:20 loss: 0.3592 val_loss: 0.3535 acc: 0.8715 val acc: 0.8940\n",
      "epoch:21 loss: 0.3506 val_loss: 0.3468 acc: 0.8726 val acc: 0.8950\n",
      "epoch:22 loss: 0.3403 val_loss: 0.3395 acc: 0.8797 val acc: 0.8950\n",
      "epoch:23 loss: 0.3360 val_loss: 0.3334 acc: 0.8781 val acc: 0.8960\n",
      "epoch:24 loss: 0.3284 val_loss: 0.3284 acc: 0.8834 val acc: 0.8960\n",
      "epoch:25 loss: 0.3133 val_loss: 0.3220 acc: 0.8888 val acc: 0.8970\n",
      "epoch:26 loss: 0.3049 val_loss: 0.3153 acc: 0.8958 val acc: 0.8990\n",
      "epoch:27 loss: 0.3018 val_loss: 0.3114 acc: 0.8924 val acc: 0.8980\n",
      "epoch:28 loss: 0.2959 val_loss: 0.3082 acc: 0.8942 val acc: 0.8980\n",
      "epoch:29 loss: 0.2875 val_loss: 0.3040 acc: 0.8978 val acc: 0.8970\n",
      "epoch:30 loss: 0.2854 val_loss: 0.3006 acc: 0.8967 val acc: 0.8990\n",
      "epoch:31 loss: 0.2750 val_loss: 0.2961 acc: 0.9024 val acc: 0.9010\n",
      "epoch:32 loss: 0.2751 val_loss: 0.2929 acc: 0.9043 val acc: 0.9030\n",
      "epoch:33 loss: 0.2701 val_loss: 0.2912 acc: 0.9048 val acc: 0.9010\n",
      "epoch:34 loss: 0.2636 val_loss: 0.2885 acc: 0.9041 val acc: 0.9020\n",
      "epoch:35 loss: 0.2543 val_loss: 0.2850 acc: 0.9102 val acc: 0.9040\n",
      "epoch:36 loss: 0.2546 val_loss: 0.2832 acc: 0.9108 val acc: 0.9060\n",
      "epoch:37 loss: 0.2503 val_loss: 0.2802 acc: 0.9121 val acc: 0.9070\n",
      "epoch:38 loss: 0.2437 val_loss: 0.2784 acc: 0.9164 val acc: 0.9070\n",
      "epoch:39 loss: 0.2425 val_loss: 0.2769 acc: 0.9154 val acc: 0.9080\n",
      "epoch:40 loss: 0.2375 val_loss: 0.2753 acc: 0.9188 val acc: 0.9080\n",
      "epoch:41 loss: 0.2357 val_loss: 0.2738 acc: 0.9192 val acc: 0.9100\n",
      "epoch:42 loss: 0.2325 val_loss: 0.2730 acc: 0.9193 val acc: 0.9110\n",
      "epoch:43 loss: 0.2298 val_loss: 0.2716 acc: 0.9205 val acc: 0.9100\n",
      "epoch:44 loss: 0.2260 val_loss: 0.2702 acc: 0.9207 val acc: 0.9090\n",
      "epoch:45 loss: 0.2222 val_loss: 0.2692 acc: 0.9242 val acc: 0.9110\n",
      "epoch:46 loss: 0.2179 val_loss: 0.2681 acc: 0.9250 val acc: 0.9110\n",
      "epoch:47 loss: 0.2145 val_loss: 0.2670 acc: 0.9284 val acc: 0.9110\n",
      "epoch:48 loss: 0.2097 val_loss: 0.2658 acc: 0.9283 val acc: 0.9120\n",
      "epoch:49 loss: 0.2050 val_loss: 0.2637 acc: 0.9301 val acc: 0.9130\n",
      "epoch:50 loss: 0.2068 val_loss: 0.2624 acc: 0.9299 val acc: 0.9130\n"
     ]
    }
   ],
   "source": [
    "# model initialize\n",
    "model = MLP(input_dims, hidden_dims, num_classes, dropout)\n",
    "# optimizer = torch.optim.Adam(model.parameters(), lr=1e-4, weight_decay=0.01)\n",
    "optimizer = torch.optim.SGD(model.parameters(), lr=1e-4, momentum=0.9, weight_decay=0.01)\n",
    "\n",
    "epochs = 50\n",
    "train_size = 0\n",
    "valid_size = valid_x_np.shape[0]\n",
    "\n",
    "loss_list = []\n",
    "valid_loss_list = []\n",
    "acc_list = []\n",
    "valid_acc_list = []\n",
    "\n",
    "for epoch in range(1, epochs + 1):\n",
    "    correct = 0\n",
    "    loss = 0\n",
    "    train_size = 0\n",
    "    for i, (neg_train_x, neg_train_y) in enumerate(neg_train_iter):\n",
    "        neg_size = neg_train_x.size()[0]\n",
    "        data_shuffle(pos_train_x_np, pos_train_y_np)\n",
    "        # random sampling from postive dataset\n",
    "        pos_train_x = torch.from_numpy(pos_train_x_np[:neg_size, :]).float()\n",
    "        pos_train_y = torch.from_numpy(pos_train_y_np[:neg_size].astype(np.int64))\n",
    "        # combine the positive and negative instances together\n",
    "        pn_train_x = torch.cat((neg_train_x, pos_train_x), 0)\n",
    "        pn_train_y = torch.cat((neg_train_y, pos_train_y), 0)\n",
    "        train_size += pn_train_x.size()[0]\n",
    "        pn_train = DataLoader(TensorDataset(pn_train_x, pn_train_y), batch_size = train_batch_size, shuffle=True) \n",
    "        correct_, loss_ = train(pn_train)\n",
    "        correct += correct_\n",
    "        loss += loss_ / len(neg_train_iter)\n",
    "    loss_list.append(loss)\n",
    "    acc_list.append(float(correct) / train_size)\n",
    "    val_correct, val_loss = valid(valid_iter)\n",
    "    valid_loss_list.append(val_loss)\n",
    "    valid_acc_list.append(float(val_correct) / valid_size)\n",
    "    print('epoch:{} loss: {:.4f} val_loss: {:.4f} acc: {:.4f} val acc: {:.4f}'.format(\n",
    "        epoch, loss, val_loss, float(correct) / train_size, float(val_correct) / valid_size))"
   ]
  },
  {
   "cell_type": "code",
   "execution_count": 463,
   "metadata": {},
   "outputs": [
    {
     "name": "stdout",
     "output_type": "stream",
     "text": [
      "Precision: 0.576\n",
      "Recall: 0.761\n",
      "F-measure: 0.656\n",
      "144 positive samples in prediction\n",
      "109 positive samples in ground truth\n"
     ]
    }
   ],
   "source": [
    "test_x = torch.from_numpy(valid_x_np).float()\n",
    "pred = predict(model, test_x)\n",
    "\n",
    "tn, fp, fn, tp = confusion_matrix(valid_y_np, pred.numpy()).ravel()\n",
    "\n",
    "precision = float(tp) / (tp + fp)\n",
    "recall = float(tp) / (tp + fn)\n",
    "\n",
    "print(\"Precision: {:.3f}\".format(precision))\n",
    "print(\"Recall: {:.3f}\".format(recall))\n",
    "print(\"F-measure: {:.3f}\".format((2 * recall * precision) / (recall + precision)))\n",
    "\n",
    "print(\"{0} positive samples in prediction\".format(torch.sum((pred == 1).int()).item()))\n",
    "print(\"{0} positive samples in ground truth\".format(len(valid_y_np[valid_y_np == 1])))"
   ]
  },
  {
   "cell_type": "code",
   "execution_count": 464,
   "metadata": {},
   "outputs": [
    {
     "data": {
      "image/png": "[encoded data removed]",
      "text/plain": [
       "<matplotlib.figure.Figure at 0x7fc936151c50>"
      ]
     },
     "metadata": {},
     "output_type": "display_data"
    }
   ],
   "source": [
    "plt.plot(range(epochs),loss_list, label=\"train loss\")\n",
    "plt.plot(range(epochs),valid_loss_list, label=\"valid loss\")\n",
    "plt.legend()\n",
    "plt.show()"
   ]
  },
  {
   "cell_type": "code",
   "execution_count": 465,
   "metadata": {},
   "outputs": [
    {
     "data": {
      "image/png": "[encoded data removed]",
      "text/plain": [
       "<matplotlib.figure.Figure at 0x7fc930b6fef0>"
      ]
     },
     "metadata": {},
     "output_type": "display_data"
    }
   ],
   "source": [
    "plt.plot(range(epochs),acc_list, label=\"train acc\")\n",
    "plt.plot(range(epochs),valid_acc_list, label=\"valid acc\")\n",
    "plt.legend()\n",
    "plt.show()"
   ]
  },
  {
   "cell_type": "code",
   "execution_count": null,
   "metadata": {},
   "outputs": [],
   "source": []
  }
 ],
 "metadata": {
  "kernelspec": {
   "display_name": "Python 3",
   "language": "python",
   "name": "python3"
  },
  "language_info": {
   "codemirror_mode": {
    "name": "ipython",
    "version": 3
   },
   "file_extension": ".py",
   "mimetype": "text/x-python",
   "name": "python",
   "nbconvert_exporter": "python",
   "pygments_lexer": "ipython3",
   "version": "3.6.4"
  }
 },
 "nbformat": 4,
 "nbformat_minor": 2
}
