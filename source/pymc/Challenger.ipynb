{
 "cells": [
  {
   "cell_type": "markdown",
   "metadata": {},
   "source": [
    "### スペースシャトル「チャレンジャー号」の悲劇（p.64～）"
   ]
  },
  {
   "cell_type": "code",
   "execution_count": 83,
   "metadata": {},
   "outputs": [],
   "source": [
    "import pymc as pm\n",
    "import matplotlib.pyplot as plt\n",
    "import numpy as np"
   ]
  },
  {
   "cell_type": "code",
   "execution_count": 3,
   "metadata": {},
   "outputs": [
    {
     "data": {
      "text/plain": [
       "('data/challenger_data.csv', <http.client.HTTPMessage at 0x7f806199fe10>)"
      ]
     },
     "execution_count": 3,
     "metadata": {},
     "output_type": "execute_result"
    }
   ],
   "source": [
    "from urllib.request import urlretrieve\n",
    "urlretrieve(\"https://git.io/vXknD\", \"data/challenger_data.csv\")"
   ]
  },
  {
   "cell_type": "code",
   "execution_count": 27,
   "metadata": {},
   "outputs": [],
   "source": [
    "challenger_data = np.genfromtxt(\"data/challenger_data.csv\",\n",
    "                               skip_header=1, usecols=[1,2],\n",
    "                               missing_values=\"NA\",\n",
    "                               delimiter=\",\")"
   ]
  },
  {
   "cell_type": "code",
   "execution_count": 28,
   "metadata": {},
   "outputs": [],
   "source": [
    "# nanを削除\n",
    "challenger_data = challenger_data[~np.isnan(challenger_data[:, 1])]"
   ]
  },
  {
   "cell_type": "markdown",
   "metadata": {},
   "source": [
    "外気温と故障発生の関係に関する散布図"
   ]
  },
  {
   "cell_type": "code",
   "execution_count": 36,
   "metadata": {},
   "outputs": [
    {
     "data": {
      "text/plain": [
       "Text(0.5,0,'Outside temprature')"
      ]
     },
     "execution_count": 36,
     "metadata": {},
     "output_type": "execute_result"
    },
    {
     "data": {
      "image/png": "[encoded data removed]",
      "text/plain": [
       "<matplotlib.figure.Figure at 0x7f80255fd2e8>"
      ]
     },
     "metadata": {},
     "output_type": "display_data"
    }
   ],
   "source": [
    "plt.scatter(challenger_data[:,0],challenger_data[:,1])\n",
    "plt.ylabel(\"Damage incident?\")\n",
    "plt.xlabel(\"Outside temprature\")"
   ]
  },
  {
   "cell_type": "markdown",
   "metadata": {},
   "source": [
    "故障発生確率をロジスティック関数を用いて表す"
   ]
  },
  {
   "cell_type": "code",
   "execution_count": 107,
   "metadata": {},
   "outputs": [],
   "source": [
    "def logit(x, beta, alpha):\n",
    "    return 1.0 / (1.0 + np.exp(np.dot(beta,x) + alpha))"
   ]
  },
  {
   "cell_type": "code",
   "execution_count": 105,
   "metadata": {},
   "outputs": [],
   "source": [
    "temperature = challenger_data[:,0]  # 説明変数\n",
    "D = challenger_data[:,1]  # 目的変数\n",
    "\n",
    "beta = pm.Normal(\"beta\", 0, 0.001, value=0)  # init value=mu\n",
    "alpha = pm.Normal(\"alpha\", 0, 0.001, value=0)  # init value=mu\n",
    "\n",
    "@pm.deterministic\n",
    "def p(t=temperature, alpha=alpha, beta=beta):\n",
    "    return 1.0 / (1.0 + np.exp(beta * t + alpha))"
   ]
  },
  {
   "cell_type": "markdown",
   "metadata": {},
   "source": [
    "pの事前確率は全て0.5（完全にランダム）"
   ]
  },
  {
   "cell_type": "code",
   "execution_count": 89,
   "metadata": {},
   "outputs": [
    {
     "data": {
      "text/plain": [
       "array([ 0.5,  0.5,  0.5,  0.5,  0.5,  0.5,  0.5,  0.5,  0.5,  0.5,  0.5,\n",
       "        0.5,  0.5,  0.5,  0.5,  0.5,  0.5,  0.5,  0.5,  0.5,  0.5,  0.5,\n",
       "        0.5])"
      ]
     },
     "execution_count": 89,
     "metadata": {},
     "output_type": "execute_result"
    }
   ],
   "source": [
    "p.value"
   ]
  },
  {
   "cell_type": "markdown",
   "metadata": {},
   "source": [
    "観測結果は0,1なので、確率値＝pのベルヌーイ分布に従う。"
   ]
  },
  {
   "cell_type": "code",
   "execution_count": 92,
   "metadata": {},
   "outputs": [],
   "source": [
    "obs = pm.Bernoulli(\"obs\", p, value=D, observed=True)"
   ]
  },
  {
   "cell_type": "code",
   "execution_count": 95,
   "metadata": {},
   "outputs": [
    {
     "name": "stdout",
     "output_type": "stream",
     "text": [
      " [-----------------100%-----------------] 120000 of 120000 complete in 7.2 sec"
     ]
    }
   ],
   "source": [
    "model = pm.Model([obs, beta, alpha])\n",
    "\n",
    "# sampling\n",
    "map_ = pm.MAP(model)\n",
    "map_.fit()\n",
    "mcmc = pm.MCMC(model)\n",
    "mcmc.sample(120000,100000,2)"
   ]
  },
  {
   "cell_type": "markdown",
   "metadata": {},
   "source": [
    "データ数が少ないため、分布がばらついている。"
   ]
  },
  {
   "cell_type": "code",
   "execution_count": 97,
   "metadata": {},
   "outputs": [
    {
     "data": {
      "image/png": "[encoded data removed]",
      "text/plain": [
       "<matplotlib.figure.Figure at 0x7f8020565470>"
      ]
     },
     "metadata": {},
     "output_type": "display_data"
    }
   ],
   "source": [
    "posterior_alpha = mcmc.trace('alpha')[:]\n",
    "plt.hist(posterior_alpha)\n",
    "plt.show()"
   ]
  },
  {
   "cell_type": "code",
   "execution_count": 98,
   "metadata": {},
   "outputs": [
    {
     "data": {
      "image/png": "[encoded data removed]",
      "text/plain": [
       "<matplotlib.figure.Figure at 0x7f8020376128>"
      ]
     },
     "metadata": {},
     "output_type": "display_data"
    }
   ],
   "source": [
    "posterior_beta = mcmc.trace('beta')[:]\n",
    "plt.hist(posterior_beta)\n",
    "plt.show()"
   ]
  },
  {
   "cell_type": "markdown",
   "metadata": {},
   "source": [
    "期待確率の分布"
   ]
  },
  {
   "cell_type": "code",
   "execution_count": 116,
   "metadata": {},
   "outputs": [],
   "source": [
    "posterior_alpha = mcmc.trace('alpha')[:, None]\n",
    "posterior_beta = mcmc.trace('beta')[:, None]\n",
    "t = np.linspace(temperature.min()-5, temperature.max()+5, 50)[:,None]\n",
    "p_t = logit(t.T, posterior_beta, posterior_alpha)  # サンプル毎の確率\n",
    "mean_prob_t = p_t.mean(axis=0)"
   ]
  },
  {
   "cell_type": "code",
   "execution_count": 130,
   "metadata": {},
   "outputs": [
    {
     "data": {
      "text/plain": [
       "<matplotlib.legend.Legend at 0x7f801fe309b0>"
      ]
     },
     "execution_count": 130,
     "metadata": {},
     "output_type": "execute_result"
    },
    {
     "data": {
      "image/png": "[encoded data removed]",
      "text/plain": [
       "<matplotlib.figure.Figure at 0x7f801fe8d780>"
      ]
     },
     "metadata": {},
     "output_type": "display_data"
    }
   ],
   "source": [
    "plt.plot(t, mean_prob_t, label=\"mean\")  # 全サンプルの平均で描画した曲線\n",
    "plt.plot(t, p_t[0,:],ls=\"--\", label=\"one sample\")  # あるサンプルで描画した曲線\n",
    "plt.plot(t, p_t[-1,:],ls=\"--\", label=\"another sample\")  # 別のサンプルで描画した曲線\n",
    "plt.legend()"
   ]
  },
  {
   "cell_type": "markdown",
   "metadata": {},
   "source": [
    "95%信頼区間の計算"
   ]
  },
  {
   "cell_type": "code",
   "execution_count": 150,
   "metadata": {},
   "outputs": [
    {
     "data": {
      "text/plain": [
       "<matplotlib.legend.Legend at 0x7f80201f27b8>"
      ]
     },
     "execution_count": 150,
     "metadata": {},
     "output_type": "execute_result"
    },
    {
     "data": {
      "image/png": "[encoded data removed]",
      "text/plain": [
       "<matplotlib.figure.Figure at 0x7f801fc86860>"
      ]
     },
     "metadata": {},
     "output_type": "display_data"
    }
   ],
   "source": [
    "from scipy.stats.mstats import mquantiles\n",
    "qs = mquantiles(p_t, [0.025, 0.975], axis=0)\n",
    "plt.fill_between(t[:,0],*qs, alpha=0.5, label=\"95% CI\")\n",
    "plt.plot(t, mean_prob_t, label=\"mean\")\n",
    "plt.legend()"
   ]
  },
  {
   "cell_type": "markdown",
   "metadata": {},
   "source": [
    "推定したモデルより、気温31度での事後確率を求める。"
   ]
  },
  {
   "cell_type": "code",
   "execution_count": 152,
   "metadata": {},
   "outputs": [
    {
     "data": {
      "text/plain": [
       "(array([  2.00000000e+00,   1.60000000e+01,   8.00000000e+00,\n",
       "          1.60000000e+01,   2.10000000e+01,   3.10000000e+01,\n",
       "          6.30000000e+01,   1.07000000e+02,   3.98000000e+02,\n",
       "          9.33800000e+03]),\n",
       " array([ 0.79855721,  0.81870148,  0.83884576,  0.85899004,  0.87913432,\n",
       "         0.8992786 ,  0.91942288,  0.93956716,  0.95971143,  0.97985571,\n",
       "         0.99999999]),\n",
       " <a list of 10 Patch objects>)"
      ]
     },
     "execution_count": 152,
     "metadata": {},
     "output_type": "execute_result"
    },
    {
     "data": {
      "image/png": "[encoded data removed]",
      "text/plain": [
       "<matplotlib.figure.Figure at 0x7f801fd6bc88>"
      ]
     },
     "metadata": {},
     "output_type": "display_data"
    }
   ],
   "source": [
    "prob_31 = logit(31, posterior_beta, posterior_alpha)\n",
    "plt.hist(prob_31)"
   ]
  },
  {
   "cell_type": "code",
   "execution_count": null,
   "metadata": {},
   "outputs": [],
   "source": []
  }
 ],
 "metadata": {
  "kernelspec": {
   "display_name": "Python 3",
   "language": "python",
   "name": "python3"
  },
  "language_info": {
   "codemirror_mode": {
    "name": "ipython",
    "version": 3
   },
   "file_extension": ".py",
   "mimetype": "text/x-python",
   "name": "python",
   "nbconvert_exporter": "python",
   "pygments_lexer": "ipython3",
   "version": "3.6.4"
  }
 },
 "nbformat": 4,
 "nbformat_minor": 2
}
