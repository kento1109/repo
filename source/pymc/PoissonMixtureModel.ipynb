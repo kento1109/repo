{
 "cells": [
  {
   "cell_type": "code",
   "execution_count": 47,
   "metadata": {},
   "outputs": [],
   "source": [
    "%matplotlib inline\n",
    "from scipy.stats import poisson, uniform, expon\n",
    "from IPython.core.pylabtools import figsize\n",
    "import numpy as np\n",
    "import pymc as pm\n",
    "\n",
    "import matplotlib.pyplot as plt\n",
    "import matplotlib as mpl"
   ]
  },
  {
   "cell_type": "code",
   "execution_count": 8,
   "metadata": {},
   "outputs": [
    {
     "data": {
      "text/plain": [
       "(array([  3.,   2.,   6.,   9.,  15.,  17.,  15.,  19.,  12.,  16.,  15.,\n",
       "         31.,  32.,  40.,  31.,  24.,  10.,   2.,   0.,   1.]),\n",
       " array([  47.40688607,   58.916721  ,   70.42655594,   81.93639088,\n",
       "          93.44622581,  104.95606075,  116.46589569,  127.97573062,\n",
       "         139.48556556,  150.99540049,  162.50523543,  174.01507037,\n",
       "         185.5249053 ,  197.03474024,  208.54457518,  220.05441011,\n",
       "         231.56424505,  243.07407999,  254.58391492,  266.09374986,\n",
       "         277.60358479]),\n",
       " <a list of 1 Patch objects>)"
      ]
     },
     "execution_count": 8,
     "metadata": {},
     "output_type": "execute_result"
    },
    {
     "data": {
      "image/png": "[encoded data removed]",
      "text/plain": [
       "<matplotlib.figure.Figure at 0x7fdbb35359b0>"
      ]
     },
     "metadata": {},
     "output_type": "display_data"
    }
   ],
   "source": [
    "data = np.loadtxt(\"data/mixture_data.csv\", delimiter=\",\")\n",
    "plt.hist(data, bins=20, histtype=\"stepfilled\", alpha=0.8)"
   ]
  },
  {
   "cell_type": "markdown",
   "metadata": {},
   "source": [
    "各ポアソン分布の$\\lambda$の事前分布\n",
    "\n",
    "$p(\\lambda_k)={\\rm Gam} (\\lambda_k|a,b)$"
   ]
  },
  {
   "cell_type": "code",
   "execution_count": 29,
   "metadata": {},
   "outputs": [
    {
     "data": {
      "text/plain": [
       "array([ 0.80892073,  0.30522467])"
      ]
     },
     "execution_count": 29,
     "metadata": {},
     "output_type": "execute_result"
    }
   ],
   "source": [
    "K = 2 # クラスタ数\n",
    "lambda_ = pm.Gamma(\"lambda_\", alpha=1, beta=1, size=K)\n",
    "lambda_.value"
   ]
  },
  {
   "cell_type": "markdown",
   "metadata": {},
   "source": [
    "所属確率$\\pi$の事前分布\n",
    "\n",
    "$p(\\pi_k)={\\rm Dir}(\\pi_k|\\alpha)$"
   ]
  },
  {
   "cell_type": "code",
   "execution_count": 37,
   "metadata": {},
   "outputs": [
    {
     "data": {
      "text/plain": [
       "array([ 0.83926351])"
      ]
     },
     "execution_count": 37,
     "metadata": {},
     "output_type": "execute_result"
    }
   ],
   "source": [
    "pi = pm.Dirichlet(\"pi\", theta=[1,1])\n",
    "pi.value"
   ]
  },
  {
   "cell_type": "markdown",
   "metadata": {},
   "source": [
    "潜在変数$s$の事前分布\n",
    "\n",
    "$p(s_n|\\pi)={\\rm Cat}(s_n|\\pi)$"
   ]
  },
  {
   "cell_type": "code",
   "execution_count": 17,
   "metadata": {},
   "outputs": [],
   "source": [
    "p = pm.Uniform(\"p\", 0., 1.)\n",
    "s = pm.Categorical(\"s\", [p, 1 - p], size=data.shape[0])  # 潜在変数はデータ数分"
   ]
  },
  {
   "cell_type": "code",
   "execution_count": 39,
   "metadata": {},
   "outputs": [],
   "source": [
    "@pm.deterministic\n",
    "def lambda_i(s=s, lambda_=lambda_):\n",
    "    return lambda_[s]  # k個あるポアソン分布のうち、一つだけがsによって指定される"
   ]
  },
  {
   "cell_type": "code",
   "execution_count": 40,
   "metadata": {},
   "outputs": [],
   "source": [
    "# 観測データ（あるポアソン分布から観測データは生成される）\n",
    "obs = pm.Poisson(\"obs\", lambda_i, value=data, observed=True)"
   ]
  },
  {
   "cell_type": "code",
   "execution_count": 41,
   "metadata": {},
   "outputs": [
    {
     "name": "stdout",
     "output_type": "stream",
     "text": [
      " [-----------------100%-----------------] 50000 of 50000 complete in 11.8 sec"
     ]
    }
   ],
   "source": [
    "# --------  モデリング-------------------#\n",
    "model = pm.Model([p, s, lambda_])\n",
    "mcmc = pm.MCMC(model)\n",
    "mcmc.sample(50000)"
   ]
  },
  {
   "cell_type": "code",
   "execution_count": 54,
   "metadata": {},
   "outputs": [
    {
     "data": {
      "image/png": "[encoded data removed]",
      "text/plain": [
       "<matplotlib.figure.Figure at 0x7fdbb1de0f98>"
      ]
     },
     "metadata": {},
     "output_type": "display_data"
    }
   ],
   "source": [
    "colors = [\"blue\", \"red\"]\n",
    "\n",
    "lambda_samples = mcmc.trace('lambda_')[:]\n",
    "\n",
    "# クラスタの平均の分布\n",
    "for i in range(2):\n",
    "    plt.hist(lambda_samples[:, i], color=colors[i], alpha=0.5, bins=20)"
   ]
  },
  {
   "cell_type": "code",
   "execution_count": 55,
   "metadata": {},
   "outputs": [
    {
     "data": {
      "text/plain": [
       "(35, 300)"
      ]
     },
     "execution_count": 55,
     "metadata": {},
     "output_type": "execute_result"
    },
    {
     "data": {
      "image/png": "[encoded data removed]",
      "text/plain": [
       "<matplotlib.figure.Figure at 0x7fdbaa662438>"
      ]
     },
     "metadata": {},
     "output_type": "display_data"
    }
   ],
   "source": [
    "s_samples = mcmc.trace('s')[:]\n",
    "# 値ごとのクラスタ所属確率\n",
    "cmap = mpl.colors.LinearSegmentedColormap.from_list(\"BMH\", colors)\n",
    "plt.scatter(data, 1 - s_samples.mean(axis=0), cmap=cmap,\n",
    "        c=s_samples.mean(axis=0), s=50)\n",
    "plt.ylim(-0.05, 1.05)\n",
    "plt.xlim(35, 300)"
   ]
  },
  {
   "cell_type": "code",
   "execution_count": null,
   "metadata": {},
   "outputs": [],
   "source": []
  }
 ],
 "metadata": {
  "kernelspec": {
   "display_name": "Python 3",
   "language": "python",
   "name": "python3"
  },
  "language_info": {
   "codemirror_mode": {
    "name": "ipython",
    "version": 3
   },
   "file_extension": ".py",
   "mimetype": "text/x-python",
   "name": "python",
   "nbconvert_exporter": "python",
   "pygments_lexer": "ipython3",
   "version": "3.6.4"
  }
 },
 "nbformat": 4,
 "nbformat_minor": 2
}
