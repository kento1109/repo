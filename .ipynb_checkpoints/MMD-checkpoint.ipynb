{
 "cells": [
  {
   "cell_type": "code",
   "execution_count": 4,
   "metadata": {},
   "outputs": [],
   "source": [
    "import numpy as np\n",
    "import mmd"
   ]
  },
  {
   "cell_type": "code",
   "execution_count": 10,
   "metadata": {},
   "outputs": [
    {
     "data": {
      "text/plain": [
       "[-1.072408703625046,\n",
       " 1.3901108963622963,\n",
       " -1.5747466662363019,\n",
       " 1.6942860493020016,\n",
       " 0.13210686428371082,\n",
       " -1.0333012607828318,\n",
       " -0.19592794756894302,\n",
       " -0.22274935446064298,\n",
       " 0.6569459034795907,\n",
       " -0.7518571696474742]"
      ]
     },
     "execution_count": 10,
     "metadata": {},
     "output_type": "execute_result"
    }
   ],
   "source": [
    "x = list(np.random.normal(loc=0.0, scale=1.0, size=10))\n",
    "y = list(np.random.normal(loc=1.0, scale=1.0, size=10))\n",
    "x\n",
    "# mmd, mmd_diag = mmd.rbf_mmd(x, y)"
   ]
  },
  {
   "cell_type": "code",
   "execution_count": 13,
   "metadata": {},
   "outputs": [],
   "source": [
    "n = 50\n",
    "mean = np.random.normal(0, 10, size=n)\n",
    "var = np.random.gamma(5, size=n)\n",
    "n_samp = np.random.randint(10, 500, size=n)\n",
    "samps = [np.random.normal(m, v, size=s)[:, np.newaxis]\n",
    "         for m, v, s in zip(mean, var, n_samp)]"
   ]
  },
  {
   "cell_type": "code",
   "execution_count": 16,
   "metadata": {},
   "outputs": [
    {
     "data": {
      "text/plain": [
       "(488, 1)"
      ]
     },
     "execution_count": 16,
     "metadata": {},
     "output_type": "execute_result"
    }
   ],
   "source": [
    "samps[0].shape"
   ]
  },
  {
   "cell_type": "code",
   "execution_count": null,
   "metadata": {},
   "outputs": [],
   "source": []
  }
 ],
 "metadata": {
  "kernelspec": {
   "display_name": "Python 3",
   "language": "python",
   "name": "python3"
  },
  "language_info": {
   "codemirror_mode": {
    "name": "ipython",
    "version": 3
   },
   "file_extension": ".py",
   "mimetype": "text/x-python",
   "name": "python",
   "nbconvert_exporter": "python",
   "pygments_lexer": "ipython3",
   "version": "3.6.4"
  }
 },
 "nbformat": 4,
 "nbformat_minor": 2
}
